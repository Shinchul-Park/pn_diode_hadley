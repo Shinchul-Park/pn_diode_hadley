{
 "cells": [
  {
   "cell_type": "code",
   "execution_count": 1,
   "id": "73cc0f56-3458-4859-bb51-4b70d63d078d",
   "metadata": {},
   "outputs": [
    {
     "name": "stdout",
     "output_type": "stream",
     "text": [
      "[0. 0. 0.] [0 0 0] [1 1 1]\n"
     ]
    }
   ],
   "source": [
    "import numpy as np\n",
    "\n",
    "x = np.array([1, 2, 3])\n",
    "\n",
    "# 일반 zeros\n",
    "a = np.zeros(3)            # [0. 0. 0.]\n",
    "\n",
    "# zeros_like\n",
    "b = np.zeros_like(x)       # [0 0 0] → x와 같은 shape, 같은 dtype(int)\n",
    "\n",
    "# ones_like\n",
    "c = np.ones_like(x)        # [1 1 1]\n",
    "\n",
    "print(a,b,c)"
   ]
  },
  {
   "cell_type": "code",
   "execution_count": 2,
   "id": "db8b157b-db89-4a61-bb99-6dc929610b8d",
   "metadata": {},
   "outputs": [
    {
     "name": "stdout",
     "output_type": "stream",
     "text": [
      "[0. 0. 1. 1. 1.]\n"
     ]
    }
   ],
   "source": [
    "def heaviside(x):\n",
    "    return np.where(x >= 0, 1.0, 0.0)\n",
    "\n",
    "x = np.array([-2, -0.5, 0, 0.5, 2])\n",
    "y = heaviside(x)\n",
    "print(y)"
   ]
  },
  {
   "cell_type": "markdown",
   "id": "43cf293d-b1b2-4f7d-9265-499c3a1ccc61",
   "metadata": {},
   "source": [
    "수치계산에서 자주 쓰이는 heaviside function\\\n",
    "x>=0 이면 1\\\n",
    "x<0 이면 0\\\n",
    "을 반환하는 단위계단 함수(step function)이다.\n",
    "$$H(x)= \n",
    "\\begin{cases}\n",
    "0 &if & x<0 \\\\\n",
    "1 &if & x \\le 0\n",
    "\\end{cases}$$"
   ]
  },
  {
   "cell_type": "code",
   "execution_count": 3,
   "id": "66b737fe-d0d4-4582-bb77-4d7cc0242b0a",
   "metadata": {},
   "outputs": [
    {
     "name": "stdout",
     "output_type": "stream",
     "text": [
      "-5e-06 5e-06\n"
     ]
    }
   ],
   "source": [
    "x = np.linspace(-5e-6, 5e-6, 1000)\n",
    "x.min()  # == -5e-6\n",
    "x.max()  # == 5e-6\n",
    "print(x.min(),x.max())"
   ]
  },
  {
   "cell_type": "code",
   "execution_count": 4,
   "id": "4ae904dc-28f5-49ad-a2ae-3e8cb8a76d6b",
   "metadata": {},
   "outputs": [
    {
     "name": "stdout",
     "output_type": "stream",
     "text": [
      "[-5.00000000e-06 -4.00000000e-06 -3.00000000e-06 -2.00000000e-06\n",
      " -1.00000000e-06  8.47032947e-22  1.00000000e-06  2.00000000e-06\n",
      "  3.00000000e-06  4.00000000e-06  5.00000000e-06]\n"
     ]
    }
   ],
   "source": [
    "xmin, xmax = -5e-6, 5e-6\n",
    "N = 11\n",
    "x = np.linspace(xmin, xmax, N)  # x: 1000개의 포인트\n",
    "dx = x[1] - x[0]                # 간격\n",
    "xg = np.concatenate(([x.min() - dx], x, [x.max() + dx]))\n",
    "print(x)"
   ]
  },
  {
   "cell_type": "code",
   "execution_count": 5,
   "id": "ec3cb9a6-add4-4906-8b45-7efeaaf14d39",
   "metadata": {},
   "outputs": [
    {
     "name": "stdout",
     "output_type": "stream",
     "text": [
      "-5e-06\n"
     ]
    }
   ],
   "source": [
    "min_index = np.argmin(x)   # 최소값의 인덱스를 반환\n",
    "print(x[min_index])        # x의 최소값과 같음\n"
   ]
  },
  {
   "cell_type": "code",
   "execution_count": 6,
   "id": "2d546082-d89c-45b2-b945-a648693840c1",
   "metadata": {},
   "outputs": [
    {
     "name": "stdout",
     "output_type": "stream",
     "text": [
      "x (index, value):\n",
      "  x[0] = -5.00e-06\n",
      "  x[1] = -4.00e-06\n",
      "  x[2] = -3.00e-06\n",
      "  x[3] = -2.00e-06\n",
      "  x[4] = -1.00e-06\n",
      "  x[5] = 8.47e-22\n",
      "  x[6] = 1.00e-06\n",
      "  x[7] = 2.00e-06\n",
      "  x[8] = 3.00e-06\n",
      "  x[9] = 4.00e-06\n",
      "  x[10] = 5.00e-06\n",
      "\n",
      "---\n",
      "xg (index, value):\n",
      "  xg[0] = -6.00e-06\n",
      "  xg[1] = -5.00e-06\n",
      "  xg[2] = -4.00e-06\n",
      "  xg[3] = -3.00e-06\n",
      "  xg[4] = -2.00e-06\n",
      "  xg[5] = -1.00e-06\n",
      "  xg[6] = 8.47e-22\n",
      "  xg[7] = 1.00e-06\n",
      "  xg[8] = 2.00e-06\n",
      "  xg[9] = 3.00e-06\n",
      "  xg[10] = 4.00e-06\n",
      "  xg[11] = 5.00e-06\n",
      "  xg[12] = 6.00e-06\n"
     ]
    }
   ],
   "source": [
    "import numpy as np\n",
    "\n",
    "xmin, xmax = -5e-6, 5e-6\n",
    "N = 11\n",
    "x = np.linspace(xmin, xmax, N)\n",
    "dx = x[1] - x[0]\n",
    "xg = np.concatenate(([x.min() - dx], x, [x.max() + dx]))\n",
    "\n",
    "# x 출력\n",
    "print(\"x (index, value):\")\n",
    "for i, val in enumerate(x):\n",
    "    print(f\"  x[{i}] = {val:.2e}\")\n",
    "\n",
    "print(\"\\n---\")\n",
    "\n",
    "# xg 출력\n",
    "print(\"xg (index, value):\")\n",
    "for i, val in enumerate(xg):\n",
    "    print(f\"  xg[{i}] = {val:.2e}\")\n"
   ]
  },
  {
   "cell_type": "markdown",
   "id": "7662ec63-b7fc-4c76-b9a1-c06f145b03b9",
   "metadata": {},
   "source": [
    "### .tocsc()\n",
    "\n",
    "M_k = spdiags([-M_off, Mjj_k, -M_off], [-1, 0, 1], N, N).tocsc()\n",
    "\n",
    "tocsc()는 scipy.sparse에서 사용하는 함수로, 희소 행렬(sparse matrix)을 Compressed Sparse Column (CSC) 형식으로 변환하는 메서드입니다.\n",
    "\n",
    "from scipy.sparse import spdiags\n",
    "\n",
    "M = spdiags(data, diags, m, n)\\\n",
    "M_csc = M.tocsc()\n",
    "\n",
    "M은 처음에 희소 행렬로 생성되었고,\n",
    "\n",
    ".tocsc()는 이 행렬을 CSC 형식으로 변환합니다.\n",
    "\n",
    "CSC는 \"Compressed Sparse Column\"의 줄임말입니다.\n",
    "\n",
    "열 단위로 압축된 방식으로 희소 행렬을 저장합니다.\n",
    "\n",
    "이 형식은 다음 연산에 매우 빠릅니다:\n",
    "\n",
    ".tocsc() → \"to CSC format\"\n",
    "\n",
    ".tocsr() → \"to CSR format\" (Compressed Sparse Row, 행 기준 압축)"
   ]
  },
  {
   "cell_type": "code",
   "execution_count": null,
   "id": "8a351c94-05cf-4b82-9bce-49031cf147b6",
   "metadata": {},
   "outputs": [],
   "source": []
  }
 ],
 "metadata": {
  "kernelspec": {
   "display_name": "Python 3 (ipykernel)",
   "language": "python",
   "name": "python3"
  },
  "language_info": {
   "codemirror_mode": {
    "name": "ipython",
    "version": 3
   },
   "file_extension": ".py",
   "mimetype": "text/x-python",
   "name": "python",
   "nbconvert_exporter": "python",
   "pygments_lexer": "ipython3",
   "version": "3.12.6"
  }
 },
 "nbformat": 4,
 "nbformat_minor": 5
}
